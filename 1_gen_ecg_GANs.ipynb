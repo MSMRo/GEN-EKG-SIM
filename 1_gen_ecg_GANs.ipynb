{
 "cells": [
  {
   "cell_type": "markdown",
   "id": "23164082",
   "metadata": {},
   "source": [
    "# Generation of synthetic EKG signals using GANs and Neurokit library"
   ]
  },
  {
   "cell_type": "markdown",
   "id": "910cae9a",
   "metadata": {},
   "source": [
    "## 0. Generating the database with Neurokit2"
   ]
  },
  {
   "cell_type": "code",
   "execution_count": 3,
   "id": "ecf6a846",
   "metadata": {},
   "outputs": [
    {
     "name": "stdout",
     "output_type": "stream",
     "text": [
      "Collecting pywavelets\n",
      "  Downloading pywavelets-1.9.0-cp313-cp313-win_amd64.whl.metadata (7.6 kB)\n",
      "Collecting neurokit2\n",
      "  Downloading neurokit2-0.2.12-py2.py3-none-any.whl.metadata (37 kB)\n",
      "Requirement already satisfied: numpy<3,>=1.25 in c:\\users\\47470482\\appdata\\local\\anaconda3\\envs\\torch-env\\lib\\site-packages (from pywavelets) (2.3.3)\n",
      "Requirement already satisfied: requests in c:\\users\\47470482\\appdata\\local\\anaconda3\\envs\\torch-env\\lib\\site-packages (from neurokit2) (2.32.5)\n",
      "Requirement already satisfied: pandas in c:\\users\\47470482\\appdata\\local\\anaconda3\\envs\\torch-env\\lib\\site-packages (from neurokit2) (2.3.3)\n",
      "Requirement already satisfied: scipy in c:\\users\\47470482\\appdata\\local\\anaconda3\\envs\\torch-env\\lib\\site-packages (from neurokit2) (1.16.2)\n",
      "Requirement already satisfied: scikit-learn>=1.0.0 in c:\\users\\47470482\\appdata\\local\\anaconda3\\envs\\torch-env\\lib\\site-packages (from neurokit2) (1.7.2)\n",
      "Requirement already satisfied: matplotlib>=3.5.0 in c:\\users\\47470482\\appdata\\local\\anaconda3\\envs\\torch-env\\lib\\site-packages (from neurokit2) (3.10.7)\n",
      "Requirement already satisfied: contourpy>=1.0.1 in c:\\users\\47470482\\appdata\\local\\anaconda3\\envs\\torch-env\\lib\\site-packages (from matplotlib>=3.5.0->neurokit2) (1.3.3)\n",
      "Requirement already satisfied: cycler>=0.10 in c:\\users\\47470482\\appdata\\local\\anaconda3\\envs\\torch-env\\lib\\site-packages (from matplotlib>=3.5.0->neurokit2) (0.12.1)\n",
      "Requirement already satisfied: fonttools>=4.22.0 in c:\\users\\47470482\\appdata\\local\\anaconda3\\envs\\torch-env\\lib\\site-packages (from matplotlib>=3.5.0->neurokit2) (4.60.1)\n",
      "Requirement already satisfied: kiwisolver>=1.3.1 in c:\\users\\47470482\\appdata\\local\\anaconda3\\envs\\torch-env\\lib\\site-packages (from matplotlib>=3.5.0->neurokit2) (1.4.9)\n",
      "Requirement already satisfied: packaging>=20.0 in c:\\users\\47470482\\appdata\\local\\anaconda3\\envs\\torch-env\\lib\\site-packages (from matplotlib>=3.5.0->neurokit2) (25.0)\n",
      "Requirement already satisfied: pillow>=8 in c:\\users\\47470482\\appdata\\local\\anaconda3\\envs\\torch-env\\lib\\site-packages (from matplotlib>=3.5.0->neurokit2) (11.3.0)\n",
      "Requirement already satisfied: pyparsing>=3 in c:\\users\\47470482\\appdata\\local\\anaconda3\\envs\\torch-env\\lib\\site-packages (from matplotlib>=3.5.0->neurokit2) (3.2.5)\n",
      "Requirement already satisfied: python-dateutil>=2.7 in c:\\users\\47470482\\appdata\\local\\anaconda3\\envs\\torch-env\\lib\\site-packages (from matplotlib>=3.5.0->neurokit2) (2.9.0.post0)\n",
      "Requirement already satisfied: six>=1.5 in c:\\users\\47470482\\appdata\\local\\anaconda3\\envs\\torch-env\\lib\\site-packages (from python-dateutil>=2.7->matplotlib>=3.5.0->neurokit2) (1.17.0)\n",
      "Requirement already satisfied: joblib>=1.2.0 in c:\\users\\47470482\\appdata\\local\\anaconda3\\envs\\torch-env\\lib\\site-packages (from scikit-learn>=1.0.0->neurokit2) (1.5.2)\n",
      "Requirement already satisfied: threadpoolctl>=3.1.0 in c:\\users\\47470482\\appdata\\local\\anaconda3\\envs\\torch-env\\lib\\site-packages (from scikit-learn>=1.0.0->neurokit2) (3.6.0)\n",
      "Requirement already satisfied: pytz>=2020.1 in c:\\users\\47470482\\appdata\\local\\anaconda3\\envs\\torch-env\\lib\\site-packages (from pandas->neurokit2) (2025.2)\n",
      "Requirement already satisfied: tzdata>=2022.7 in c:\\users\\47470482\\appdata\\local\\anaconda3\\envs\\torch-env\\lib\\site-packages (from pandas->neurokit2) (2025.2)\n",
      "Requirement already satisfied: charset_normalizer<4,>=2 in c:\\users\\47470482\\appdata\\local\\anaconda3\\envs\\torch-env\\lib\\site-packages (from requests->neurokit2) (3.4.4)\n",
      "Requirement already satisfied: idna<4,>=2.5 in c:\\users\\47470482\\appdata\\local\\anaconda3\\envs\\torch-env\\lib\\site-packages (from requests->neurokit2) (3.11)\n",
      "Requirement already satisfied: urllib3<3,>=1.21.1 in c:\\users\\47470482\\appdata\\local\\anaconda3\\envs\\torch-env\\lib\\site-packages (from requests->neurokit2) (2.5.0)\n",
      "Requirement already satisfied: certifi>=2017.4.17 in c:\\users\\47470482\\appdata\\local\\anaconda3\\envs\\torch-env\\lib\\site-packages (from requests->neurokit2) (2025.10.5)\n",
      "Downloading pywavelets-1.9.0-cp313-cp313-win_amd64.whl (4.2 MB)\n",
      "   ---------------------------------------- 0.0/4.2 MB ? eta -:--:--\n",
      "   ---------------------------------------- 0.0/4.2 MB ? eta -:--:--\n",
      "   --------- ------------------------------ 1.0/4.2 MB 6.7 MB/s eta 0:00:01\n",
      "   ----------------- ---------------------- 1.8/4.2 MB 4.5 MB/s eta 0:00:01\n",
      "   ----------------- ---------------------- 1.8/4.2 MB 4.5 MB/s eta 0:00:01\n",
      "   ------------------- -------------------- 2.1/4.2 MB 3.1 MB/s eta 0:00:01\n",
      "   ------------------- -------------------- 2.1/4.2 MB 3.1 MB/s eta 0:00:01\n",
      "   ------------------- -------------------- 2.1/4.2 MB 3.1 MB/s eta 0:00:01\n",
      "   ------------------------ --------------- 2.6/4.2 MB 1.7 MB/s eta 0:00:01\n",
      "   ---------------------------------------- 4.2/4.2 MB 2.4 MB/s  0:00:01\n",
      "Downloading neurokit2-0.2.12-py2.py3-none-any.whl (708 kB)\n",
      "   ---------------------------------------- 0.0/708.4 kB ? eta -:--:--\n",
      "   -------------- ------------------------- 262.1/708.4 kB ? eta -:--:--\n",
      "   ---------------------------- --------- 524.3/708.4 kB 971.4 kB/s eta 0:00:01\n",
      "   ---------------------------------------- 708.4/708.4 kB 914.5 kB/s  0:00:00\n",
      "Installing collected packages: pywavelets, neurokit2\n",
      "\n",
      "   ---------------------------------------- 0/2 [pywavelets]\n",
      "   ---------------------------------------- 0/2 [pywavelets]\n",
      "   ---------------------------------------- 0/2 [pywavelets]\n",
      "   ---------------------------------------- 0/2 [pywavelets]\n",
      "   ---------------------------------------- 0/2 [pywavelets]\n",
      "   ---------------------------------------- 0/2 [pywavelets]\n",
      "   -------------------- ------------------- 1/2 [neurokit2]\n",
      "   -------------------- ------------------- 1/2 [neurokit2]\n",
      "   -------------------- ------------------- 1/2 [neurokit2]\n",
      "   -------------------- ------------------- 1/2 [neurokit2]\n",
      "   -------------------- ------------------- 1/2 [neurokit2]\n",
      "   -------------------- ------------------- 1/2 [neurokit2]\n",
      "   -------------------- ------------------- 1/2 [neurokit2]\n",
      "   -------------------- ------------------- 1/2 [neurokit2]\n",
      "   -------------------- ------------------- 1/2 [neurokit2]\n",
      "   -------------------- ------------------- 1/2 [neurokit2]\n",
      "   -------------------- ------------------- 1/2 [neurokit2]\n",
      "   -------------------- ------------------- 1/2 [neurokit2]\n",
      "   -------------------- ------------------- 1/2 [neurokit2]\n",
      "   -------------------- ------------------- 1/2 [neurokit2]\n",
      "   -------------------- ------------------- 1/2 [neurokit2]\n",
      "   -------------------- ------------------- 1/2 [neurokit2]\n",
      "   -------------------- ------------------- 1/2 [neurokit2]\n",
      "   -------------------- ------------------- 1/2 [neurokit2]\n",
      "   -------------------- ------------------- 1/2 [neurokit2]\n",
      "   -------------------- ------------------- 1/2 [neurokit2]\n",
      "   -------------------- ------------------- 1/2 [neurokit2]\n",
      "   -------------------- ------------------- 1/2 [neurokit2]\n",
      "   -------------------- ------------------- 1/2 [neurokit2]\n",
      "   -------------------- ------------------- 1/2 [neurokit2]\n",
      "   -------------------- ------------------- 1/2 [neurokit2]\n",
      "   -------------------- ------------------- 1/2 [neurokit2]\n",
      "   -------------------- ------------------- 1/2 [neurokit2]\n",
      "   -------------------- ------------------- 1/2 [neurokit2]\n",
      "   -------------------- ------------------- 1/2 [neurokit2]\n",
      "   -------------------- ------------------- 1/2 [neurokit2]\n",
      "   -------------------- ------------------- 1/2 [neurokit2]\n",
      "   -------------------- ------------------- 1/2 [neurokit2]\n",
      "   -------------------- ------------------- 1/2 [neurokit2]\n",
      "   -------------------- ------------------- 1/2 [neurokit2]\n",
      "   -------------------- ------------------- 1/2 [neurokit2]\n",
      "   -------------------- ------------------- 1/2 [neurokit2]\n",
      "   -------------------- ------------------- 1/2 [neurokit2]\n",
      "   -------------------- ------------------- 1/2 [neurokit2]\n",
      "   -------------------- ------------------- 1/2 [neurokit2]\n",
      "   -------------------- ------------------- 1/2 [neurokit2]\n",
      "   ---------------------------------------- 2/2 [neurokit2]\n",
      "\n",
      "Successfully installed neurokit2-0.2.12 pywavelets-1.9.0\n"
     ]
    }
   ],
   "source": [
    "!pip install -U pywavelets neurokit2 "
   ]
  },
  {
   "cell_type": "code",
   "execution_count": 4,
   "id": "a437e16b",
   "metadata": {},
   "outputs": [],
   "source": [
    "import pandas as pd\n",
    "import os\n",
    "import random\n",
    "import numpy as np\n",
    "import warnings\n",
    "import neurokit2 as nk\n",
    "import tensorflow as tf\n",
    "from tensorflow import keras\n",
    "from tensorflow.keras import layers\n",
    "from sklearn.model_selection import train_test_split\n",
    "from sklearn.metrics import (\n",
    "    accuracy_score,\n",
    "    precision_recall_fscore_support,\n",
    "    confusion_matrix,\n",
    "    classification_report\n",
    ")\n",
    "\n",
    "warnings.filterwarnings(\"ignore\")"
   ]
  },
  {
   "cell_type": "code",
   "execution_count": 5,
   "id": "5972f5e2",
   "metadata": {},
   "outputs": [
    {
     "name": "stdout",
     "output_type": "stream",
     "text": [
      "[]\n"
     ]
    }
   ],
   "source": [
    "devices = tf.config.list_physical_devices('GPU')\n",
    "print(devices)"
   ]
  },
  {
   "cell_type": "code",
   "execution_count": 8,
   "id": "62af13bf",
   "metadata": {},
   "outputs": [
    {
     "name": "stdout",
     "output_type": "stream",
     "text": [
      "TF version: 2.20.0\n"
     ]
    },
    {
     "data": {
      "text/plain": [
       "array([[1.0660845 ],\n",
       "       [1.0618839 ],\n",
       "       [1.0523672 ],\n",
       "       ...,\n",
       "       [0.00290521],\n",
       "       [0.00331089],\n",
       "       [0.00357093]], shape=(10000, 1), dtype=float32)"
      ]
     },
     "execution_count": 8,
     "metadata": {},
     "output_type": "execute_result"
    }
   ],
   "source": [
    "SEED = 42\n",
    "random.seed(SEED)\n",
    "np.random.seed(SEED)\n",
    "\n",
    "# Dependencias\n",
    "print(\"TF version:\", tf.__version__)\n",
    "tf.random.set_seed(SEED)\n",
    "\n",
    "sig = nk.ecg_simulate(\n",
    "        duration=10,\n",
    "        sampling_rate=1000,\n",
    "        heart_rate=70,\n",
    "        noise=0.01,\n",
    "        method=\"ecgsyn\"\n",
    "    )\n",
    "\n",
    "np.asarray(sig, dtype=np.float32).reshape(-1, 1)"
   ]
  },
  {
   "cell_type": "code",
   "execution_count": null,
   "id": "69a17230",
   "metadata": {},
   "outputs": [
    {
     "name": "stdout",
     "output_type": "stream",
     "text": [
      "TF version: 2.20.0\n",
      "Dataset: 300 muestras, secuencia 1600x1, clases: ['normal', 'bradicardia', 'taquicardia']\n",
      "Split -> train: 210, val: 45, test: 45\n"
     ]
    }
   ],
   "source": [
    "# Semillas para reproducibilidad\n",
    "SEED = 42\n",
    "random.seed(SEED)\n",
    "np.random.seed(SEED)\n",
    "\n",
    "# Dependencias\n",
    "print(\"TF version:\", tf.__version__)\n",
    "tf.random.set_seed(SEED)\n",
    "\n",
    "# --------------------------------------------------------\n",
    "# 1) Generación de dataset sintético con neurokit2\n",
    "# --------------------------------------------------------\n",
    "def simulate_ecg_sample(duration_s=8, fs=1000, hr_bpm=70, noise=0.01):\n",
    "    # ECG sintético; método ecgsyn de neurokit2\n",
    "    sig = nk.ecg_simulate(\n",
    "        duration=duration_s,\n",
    "        sampling_rate=fs,\n",
    "        heart_rate=hr_bpm,\n",
    "        noise=noise,\n",
    "        method=\"ecgsyn\"\n",
    "    )\n",
    "    # Aseguramos forma (T, 1) y float32\n",
    "    x = np.asarray(sig, dtype=np.float32).reshape(-1, 1)\n",
    "    # Normalización por muestra (z-score)\n",
    "    m = x.mean()\n",
    "    s = x.std() + 1e-8\n",
    "    x = (x - m) / s\n",
    "    return x\n",
    "\n",
    "def make_dataset(n_per_class=100, duration_s=8, fs=200, seed=SEED):\n",
    "    rng = np.random.default_rng(seed)\n",
    "    classes = {\n",
    "        \"normal\": {\"hr_range\": (60, 80), \"noise\": (0.005, 0.02)},\n",
    "        \"bradicardia\": {\"hr_range\": (35, 50), \"noise\": (0.005, 0.02)},\n",
    "        \"taquicardia\": {\"hr_range\": (100, 130), \"noise\": (0.005, 0.02)},\n",
    "    }\n",
    "    X, y, names = [], [], list(classes.keys())\n",
    "\n",
    "    for label, cfg in enumerate(names):\n",
    "        hr_lo, hr_hi = classes[cfg][\"hr_range\"]\n",
    "        nz_lo, nz_hi = classes[cfg][\"noise\"]\n",
    "        for _ in range(n_per_class):\n",
    "            hr = float(rng.uniform(hr_lo, hr_hi))\n",
    "            nz = float(rng.uniform(nz_lo, nz_hi))\n",
    "            x = simulate_ecg_sample(duration_s=duration_s, fs=fs, hr_bpm=hr, noise=nz)\n",
    "            X.append(x)\n",
    "            y.append(label)\n",
    "\n",
    "    # Aseguramos misma longitud (por si hubiese ligeras variaciones)\n",
    "    T = int(duration_s * fs)\n",
    "    X = [xi[:T] if len(xi) >= T else np.pad(xi, ((0, T-len(xi)), (0, 0))) for xi in X]\n",
    "    X = np.stack(X, axis=0).astype(np.float32)   # (N, T, 1)\n",
    "    y = np.array(y, dtype=np.int64)\n",
    "    return X, y, names\n",
    "\n",
    "# Parámetros del dataset\n",
    "N_PER_CLASS = 100    # Ajusta si quieres más datos\n",
    "DURATION_S   = 8\n",
    "FS           = 200\n",
    "\n",
    "X, y, class_names = make_dataset(\n",
    "    n_per_class=N_PER_CLASS,\n",
    "    duration_s=DURATION_S,\n",
    "    fs=FS,\n",
    "    seed=SEED\n",
    ")\n",
    "N, T, C = X.shape\n",
    "num_classes = len(class_names)\n",
    "print(f\"Dataset: {N} muestras, secuencia {T}x{C}, clases: {class_names}\")\n",
    "\n"
   ]
  },
  {
   "cell_type": "code",
   "execution_count": null,
   "id": "6ec0c42c",
   "metadata": {},
   "outputs": [
    {
     "data": {
      "text/plain": [
       "42000.0"
      ]
     },
     "execution_count": 10,
     "metadata": {},
     "output_type": "execute_result"
    }
   ],
   "source": [
    "80*150*3.5 # TEchnical research."
   ]
  },
  {
   "cell_type": "code",
   "execution_count": null,
   "id": "eda12f61",
   "metadata": {},
   "outputs": [],
   "source": [
    "# Train/Val/Test split\n",
    "X_train, X_tmp, y_train, y_tmp = train_test_split(\n",
    "    X, y, test_size=0.30, stratify=y, random_state=SEED\n",
    ")\n",
    "X_val, X_test, y_val, y_test = train_test_split(\n",
    "    X_tmp, y_tmp, test_size=0.50, stratify=y_tmp, random_state=SEED\n",
    ")\n",
    "print(f\"Split -> train: {len(X_train)}, val: {len(X_val)}, test: {len(X_test)}\")\n"
   ]
  },
  {
   "cell_type": "code",
   "execution_count": 8,
   "id": "ebfce833",
   "metadata": {},
   "outputs": [
    {
     "data": {
      "text/plain": [
       "((210, 1600, 1), (210,))"
      ]
     },
     "execution_count": 8,
     "metadata": {},
     "output_type": "execute_result"
    }
   ],
   "source": [
    "X_train.shape, y_train.shape"
   ]
  },
  {
   "cell_type": "code",
   "execution_count": 12,
   "id": "d6d1aeda",
   "metadata": {},
   "outputs": [],
   "source": [
    "import matplotlib.pyplot as plt"
   ]
  },
  {
   "cell_type": "code",
   "execution_count": 13,
   "id": "6a6b9cd7",
   "metadata": {},
   "outputs": [
    {
     "data": {
      "text/plain": [
       "[<matplotlib.lines.Line2D at 0x7a3755639d60>]"
      ]
     },
     "execution_count": 13,
     "metadata": {},
     "output_type": "execute_result"
    },
    {
     "data": {
      "image/png": "[encoded data removed]",
      "text/plain": [
       "<Figure size 640x480 with 1 Axes>"
      ]
     },
     "metadata": {},
     "output_type": "display_data"
    }
   ],
   "source": [
    "plt.plot(X_train[0][:,0])"
   ]
  },
  {
   "cell_type": "markdown",
   "id": "359fdf8c",
   "metadata": {},
   "source": [
    "## 1. Understanding of the bussiness"
   ]
  },
  {
   "cell_type": "markdown",
   "id": "f5903887",
   "metadata": {},
   "source": [
    "## 2. Understanding the data"
   ]
  },
  {
   "cell_type": "markdown",
   "id": "f4c064cc",
   "metadata": {},
   "source": [
    "## 3. Preparing the model"
   ]
  },
  {
   "cell_type": "code",
   "execution_count": 14,
   "id": "13d78fcf",
   "metadata": {},
   "outputs": [
    {
     "data": {
      "text/html": [
       "<pre style=\"white-space:pre;overflow-x:auto;line-height:normal;font-family:Menlo,'DejaVu Sans Mono',consolas,'Courier New',monospace\"><span style=\"font-weight: bold\">Model: \"functional\"</span>\n",
       "</pre>\n"
      ],
      "text/plain": [
       "\u001b[1mModel: \"functional\"\u001b[0m\n"
      ]
     },
     "metadata": {},
     "output_type": "display_data"
    },
    {
     "data": {
      "text/html": [
       "<pre style=\"white-space:pre;overflow-x:auto;line-height:normal;font-family:Menlo,'DejaVu Sans Mono',consolas,'Courier New',monospace\">┏━━━━━━━━━━━━━━━━━━━━━━━━━━━━━━━━━┳━━━━━━━━━━━━━━━━━━━━━━━━┳━━━━━━━━━━━━━━━┓\n",
       "┃<span style=\"font-weight: bold\"> Layer (type)                    </span>┃<span style=\"font-weight: bold\"> Output Shape           </span>┃<span style=\"font-weight: bold\">       Param # </span>┃\n",
       "┡━━━━━━━━━━━━━━━━━━━━━━━━━━━━━━━━━╇━━━━━━━━━━━━━━━━━━━━━━━━╇━━━━━━━━━━━━━━━┩\n",
       "│ input_layer (<span style=\"color: #0087ff; text-decoration-color: #0087ff\">InputLayer</span>)        │ (<span style=\"color: #00d7ff; text-decoration-color: #00d7ff\">None</span>, <span style=\"color: #00af00; text-decoration-color: #00af00\">1600</span>, <span style=\"color: #00af00; text-decoration-color: #00af00\">1</span>)        │             <span style=\"color: #00af00; text-decoration-color: #00af00\">0</span> │\n",
       "├─────────────────────────────────┼────────────────────────┼───────────────┤\n",
       "│ bidirectional (<span style=\"color: #0087ff; text-decoration-color: #0087ff\">Bidirectional</span>)   │ (<span style=\"color: #00d7ff; text-decoration-color: #00d7ff\">None</span>, <span style=\"color: #00af00; text-decoration-color: #00af00\">1600</span>, <span style=\"color: #00af00; text-decoration-color: #00af00\">128</span>)      │        <span style=\"color: #00af00; text-decoration-color: #00af00\">33,792</span> │\n",
       "├─────────────────────────────────┼────────────────────────┼───────────────┤\n",
       "│ dropout (<span style=\"color: #0087ff; text-decoration-color: #0087ff\">Dropout</span>)               │ (<span style=\"color: #00d7ff; text-decoration-color: #00d7ff\">None</span>, <span style=\"color: #00af00; text-decoration-color: #00af00\">1600</span>, <span style=\"color: #00af00; text-decoration-color: #00af00\">128</span>)      │             <span style=\"color: #00af00; text-decoration-color: #00af00\">0</span> │\n",
       "├─────────────────────────────────┼────────────────────────┼───────────────┤\n",
       "│ bidirectional_1 (<span style=\"color: #0087ff; text-decoration-color: #0087ff\">Bidirectional</span>) │ (<span style=\"color: #00d7ff; text-decoration-color: #00d7ff\">None</span>, <span style=\"color: #00af00; text-decoration-color: #00af00\">64</span>)             │        <span style=\"color: #00af00; text-decoration-color: #00af00\">41,216</span> │\n",
       "├─────────────────────────────────┼────────────────────────┼───────────────┤\n",
       "│ dropout_1 (<span style=\"color: #0087ff; text-decoration-color: #0087ff\">Dropout</span>)             │ (<span style=\"color: #00d7ff; text-decoration-color: #00d7ff\">None</span>, <span style=\"color: #00af00; text-decoration-color: #00af00\">64</span>)             │             <span style=\"color: #00af00; text-decoration-color: #00af00\">0</span> │\n",
       "├─────────────────────────────────┼────────────────────────┼───────────────┤\n",
       "│ dense (<span style=\"color: #0087ff; text-decoration-color: #0087ff\">Dense</span>)                   │ (<span style=\"color: #00d7ff; text-decoration-color: #00d7ff\">None</span>, <span style=\"color: #00af00; text-decoration-color: #00af00\">32</span>)             │         <span style=\"color: #00af00; text-decoration-color: #00af00\">2,080</span> │\n",
       "├─────────────────────────────────┼────────────────────────┼───────────────┤\n",
       "│ dense_1 (<span style=\"color: #0087ff; text-decoration-color: #0087ff\">Dense</span>)                 │ (<span style=\"color: #00d7ff; text-decoration-color: #00d7ff\">None</span>, <span style=\"color: #00af00; text-decoration-color: #00af00\">3</span>)              │            <span style=\"color: #00af00; text-decoration-color: #00af00\">99</span> │\n",
       "└─────────────────────────────────┴────────────────────────┴───────────────┘\n",
       "</pre>\n"
      ],
      "text/plain": [
       "┏━━━━━━━━━━━━━━━━━━━━━━━━━━━━━━━━━┳━━━━━━━━━━━━━━━━━━━━━━━━┳━━━━━━━━━━━━━━━┓\n",
       "┃\u001b[1m \u001b[0m\u001b[1mLayer (type)                   \u001b[0m\u001b[1m \u001b[0m┃\u001b[1m \u001b[0m\u001b[1mOutput Shape          \u001b[0m\u001b[1m \u001b[0m┃\u001b[1m \u001b[0m\u001b[1m      Param #\u001b[0m\u001b[1m \u001b[0m┃\n",
       "┡━━━━━━━━━━━━━━━━━━━━━━━━━━━━━━━━━╇━━━━━━━━━━━━━━━━━━━━━━━━╇━━━━━━━━━━━━━━━┩\n",
       "│ input_layer (\u001b[38;5;33mInputLayer\u001b[0m)        │ (\u001b[38;5;45mNone\u001b[0m, \u001b[38;5;34m1600\u001b[0m, \u001b[38;5;34m1\u001b[0m)        │             \u001b[38;5;34m0\u001b[0m │\n",
       "├─────────────────────────────────┼────────────────────────┼───────────────┤\n",
       "│ bidirectional (\u001b[38;5;33mBidirectional\u001b[0m)   │ (\u001b[38;5;45mNone\u001b[0m, \u001b[38;5;34m1600\u001b[0m, \u001b[38;5;34m128\u001b[0m)      │        \u001b[38;5;34m33,792\u001b[0m │\n",
       "├─────────────────────────────────┼────────────────────────┼───────────────┤\n",
       "│ dropout (\u001b[38;5;33mDropout\u001b[0m)               │ (\u001b[38;5;45mNone\u001b[0m, \u001b[38;5;34m1600\u001b[0m, \u001b[38;5;34m128\u001b[0m)      │             \u001b[38;5;34m0\u001b[0m │\n",
       "├─────────────────────────────────┼────────────────────────┼───────────────┤\n",
       "│ bidirectional_1 (\u001b[38;5;33mBidirectional\u001b[0m) │ (\u001b[38;5;45mNone\u001b[0m, \u001b[38;5;34m64\u001b[0m)             │        \u001b[38;5;34m41,216\u001b[0m │\n",
       "├─────────────────────────────────┼────────────────────────┼───────────────┤\n",
       "│ dropout_1 (\u001b[38;5;33mDropout\u001b[0m)             │ (\u001b[38;5;45mNone\u001b[0m, \u001b[38;5;34m64\u001b[0m)             │             \u001b[38;5;34m0\u001b[0m │\n",
       "├─────────────────────────────────┼────────────────────────┼───────────────┤\n",
       "│ dense (\u001b[38;5;33mDense\u001b[0m)                   │ (\u001b[38;5;45mNone\u001b[0m, \u001b[38;5;34m32\u001b[0m)             │         \u001b[38;5;34m2,080\u001b[0m │\n",
       "├─────────────────────────────────┼────────────────────────┼───────────────┤\n",
       "│ dense_1 (\u001b[38;5;33mDense\u001b[0m)                 │ (\u001b[38;5;45mNone\u001b[0m, \u001b[38;5;34m3\u001b[0m)              │            \u001b[38;5;34m99\u001b[0m │\n",
       "└─────────────────────────────────┴────────────────────────┴───────────────┘\n"
      ]
     },
     "metadata": {},
     "output_type": "display_data"
    },
    {
     "data": {
      "text/html": [
       "<pre style=\"white-space:pre;overflow-x:auto;line-height:normal;font-family:Menlo,'DejaVu Sans Mono',consolas,'Courier New',monospace\"><span style=\"font-weight: bold\"> Total params: </span><span style=\"color: #00af00; text-decoration-color: #00af00\">77,187</span> (301.51 KB)\n",
       "</pre>\n"
      ],
      "text/plain": [
       "\u001b[1m Total params: \u001b[0m\u001b[38;5;34m77,187\u001b[0m (301.51 KB)\n"
      ]
     },
     "metadata": {},
     "output_type": "display_data"
    },
    {
     "data": {
      "text/html": [
       "<pre style=\"white-space:pre;overflow-x:auto;line-height:normal;font-family:Menlo,'DejaVu Sans Mono',consolas,'Courier New',monospace\"><span style=\"font-weight: bold\"> Trainable params: </span><span style=\"color: #00af00; text-decoration-color: #00af00\">77,187</span> (301.51 KB)\n",
       "</pre>\n"
      ],
      "text/plain": [
       "\u001b[1m Trainable params: \u001b[0m\u001b[38;5;34m77,187\u001b[0m (301.51 KB)\n"
      ]
     },
     "metadata": {},
     "output_type": "display_data"
    },
    {
     "data": {
      "text/html": [
       "<pre style=\"white-space:pre;overflow-x:auto;line-height:normal;font-family:Menlo,'DejaVu Sans Mono',consolas,'Courier New',monospace\"><span style=\"font-weight: bold\"> Non-trainable params: </span><span style=\"color: #00af00; text-decoration-color: #00af00\">0</span> (0.00 B)\n",
       "</pre>\n"
      ],
      "text/plain": [
       "\u001b[1m Non-trainable params: \u001b[0m\u001b[38;5;34m0\u001b[0m (0.00 B)\n"
      ]
     },
     "metadata": {},
     "output_type": "display_data"
    },
    {
     "name": "stdout",
     "output_type": "stream",
     "text": [
      "Epoch 1/20\n",
      "\u001b[1m7/7\u001b[0m \u001b[32m━━━━━━━━━━━━━━━━━━━━\u001b[0m\u001b[37m\u001b[0m \u001b[1m19s\u001b[0m 2s/step - accuracy: 0.3810 - loss: 1.0852 - val_accuracy: 0.3556 - val_loss: 1.0611\n",
      "Epoch 2/20\n",
      "\u001b[1m7/7\u001b[0m \u001b[32m━━━━━━━━━━━━━━━━━━━━\u001b[0m\u001b[37m\u001b[0m \u001b[1m14s\u001b[0m 2s/step - accuracy: 0.3905 - loss: 1.0489 - val_accuracy: 0.3333 - val_loss: 1.0152\n",
      "Epoch 3/20\n",
      "\u001b[1m7/7\u001b[0m \u001b[32m━━━━━━━━━━━━━━━━━━━━\u001b[0m\u001b[37m\u001b[0m \u001b[1m13s\u001b[0m 2s/step - accuracy: 0.4619 - loss: 0.9852 - val_accuracy: 0.6000 - val_loss: 0.9102\n",
      "Epoch 4/20\n",
      "\u001b[1m7/7\u001b[0m \u001b[32m━━━━━━━━━━━━━━━━━━━━\u001b[0m\u001b[37m\u001b[0m \u001b[1m13s\u001b[0m 2s/step - accuracy: 0.7048 - loss: 0.8536 - val_accuracy: 0.7778 - val_loss: 0.6817\n",
      "Epoch 5/20\n",
      "\u001b[1m7/7\u001b[0m \u001b[32m━━━━━━━━━━━━━━━━━━━━\u001b[0m\u001b[37m\u001b[0m \u001b[1m13s\u001b[0m 2s/step - accuracy: 0.8714 - loss: 0.5921 - val_accuracy: 0.9333 - val_loss: 0.3912\n",
      "Epoch 6/20\n",
      "\u001b[1m7/7\u001b[0m \u001b[32m━━━━━━━━━━━━━━━━━━━━\u001b[0m\u001b[37m\u001b[0m \u001b[1m13s\u001b[0m 2s/step - accuracy: 0.9571 - loss: 0.3207 - val_accuracy: 1.0000 - val_loss: 0.1831\n",
      "Epoch 7/20\n",
      "\u001b[1m7/7\u001b[0m \u001b[32m━━━━━━━━━━━━━━━━━━━━\u001b[0m\u001b[37m\u001b[0m \u001b[1m13s\u001b[0m 2s/step - accuracy: 0.9571 - loss: 0.1908 - val_accuracy: 0.9556 - val_loss: 0.1034\n",
      "Epoch 8/20\n",
      "\u001b[1m7/7\u001b[0m \u001b[32m━━━━━━━━━━━━━━━━━━━━\u001b[0m\u001b[37m\u001b[0m \u001b[1m14s\u001b[0m 2s/step - accuracy: 0.9905 - loss: 0.0831 - val_accuracy: 1.0000 - val_loss: 0.0265\n",
      "Epoch 9/20\n",
      "\u001b[1m7/7\u001b[0m \u001b[32m━━━━━━━━━━━━━━━━━━━━\u001b[0m\u001b[37m\u001b[0m \u001b[1m13s\u001b[0m 2s/step - accuracy: 1.0000 - loss: 0.0427 - val_accuracy: 1.0000 - val_loss: 0.0118\n",
      "Epoch 10/20\n",
      "\u001b[1m7/7\u001b[0m \u001b[32m━━━━━━━━━━━━━━━━━━━━\u001b[0m\u001b[37m\u001b[0m \u001b[1m13s\u001b[0m 2s/step - accuracy: 0.9905 - loss: 0.0324 - val_accuracy: 1.0000 - val_loss: 0.0074\n",
      "Epoch 11/20\n",
      "\u001b[1m7/7\u001b[0m \u001b[32m━━━━━━━━━━━━━━━━━━━━\u001b[0m\u001b[37m\u001b[0m \u001b[1m13s\u001b[0m 2s/step - accuracy: 0.9952 - loss: 0.0213 - val_accuracy: 1.0000 - val_loss: 0.0039\n",
      "Epoch 12/20\n",
      "\u001b[1m7/7\u001b[0m \u001b[32m━━━━━━━━━━━━━━━━━━━━\u001b[0m\u001b[37m\u001b[0m \u001b[1m14s\u001b[0m 2s/step - accuracy: 0.9952 - loss: 0.0148 - val_accuracy: 1.0000 - val_loss: 0.0043\n",
      "Epoch 13/20\n",
      "\u001b[1m7/7\u001b[0m \u001b[32m━━━━━━━━━━━━━━━━━━━━\u001b[0m\u001b[37m\u001b[0m \u001b[1m13s\u001b[0m 2s/step - accuracy: 0.9810 - loss: 0.0385 - val_accuracy: 1.0000 - val_loss: 0.0043\n",
      "Epoch 14/20\n",
      "\u001b[1m7/7\u001b[0m \u001b[32m━━━━━━━━━━━━━━━━━━━━\u001b[0m\u001b[37m\u001b[0m \u001b[1m13s\u001b[0m 2s/step - accuracy: 0.9905 - loss: 0.0376 - val_accuracy: 1.0000 - val_loss: 0.0034\n",
      "Epoch 15/20\n",
      "\u001b[1m7/7\u001b[0m \u001b[32m━━━━━━━━━━━━━━━━━━━━\u001b[0m\u001b[37m\u001b[0m \u001b[1m13s\u001b[0m 2s/step - accuracy: 1.0000 - loss: 0.0137 - val_accuracy: 1.0000 - val_loss: 0.0049\n",
      "Epoch 16/20\n",
      "\u001b[1m7/7\u001b[0m \u001b[32m━━━━━━━━━━━━━━━━━━━━\u001b[0m\u001b[37m\u001b[0m \u001b[1m13s\u001b[0m 2s/step - accuracy: 0.9952 - loss: 0.0112 - val_accuracy: 1.0000 - val_loss: 0.0020\n",
      "Epoch 17/20\n",
      "\u001b[1m7/7\u001b[0m \u001b[32m━━━━━━━━━━━━━━━━━━━━\u001b[0m\u001b[37m\u001b[0m \u001b[1m13s\u001b[0m 2s/step - accuracy: 0.9952 - loss: 0.0121 - val_accuracy: 1.0000 - val_loss: 0.0014\n",
      "Epoch 18/20\n",
      "\u001b[1m7/7\u001b[0m \u001b[32m━━━━━━━━━━━━━━━━━━━━\u001b[0m\u001b[37m\u001b[0m \u001b[1m13s\u001b[0m 2s/step - accuracy: 0.9952 - loss: 0.0122 - val_accuracy: 1.0000 - val_loss: 0.0012\n",
      "Epoch 19/20\n",
      "\u001b[1m7/7\u001b[0m \u001b[32m━━━━━━━━━━━━━━━━━━━━\u001b[0m\u001b[37m\u001b[0m \u001b[1m13s\u001b[0m 2s/step - accuracy: 1.0000 - loss: 0.0058 - val_accuracy: 1.0000 - val_loss: 0.0012\n",
      "Epoch 20/20\n",
      "\u001b[1m7/7\u001b[0m \u001b[32m━━━━━━━━━━━━━━━━━━━━\u001b[0m\u001b[37m\u001b[0m \u001b[1m13s\u001b[0m 2s/step - accuracy: 1.0000 - loss: 0.0040 - val_accuracy: 1.0000 - val_loss: 0.0011\n"
     ]
    }
   ],
   "source": [
    "# --------------------------------------------------------\n",
    "# 2) Modelo LSTM (Keras)\n",
    "# --------------------------------------------------------\n",
    "def build_lstm_model(seq_len, n_channels, n_classes):\n",
    "    inputs = keras.Input(shape=(seq_len, n_channels))\n",
    "    x = layers.Bidirectional(layers.LSTM(64, return_sequences=True))(inputs)\n",
    "    x = layers.Dropout(0.3)(x)\n",
    "    x = layers.Bidirectional(layers.LSTM(32))(x)\n",
    "    x = layers.Dropout(0.3)(x)\n",
    "    x = layers.Dense(32, activation=\"relu\")(x)\n",
    "    outputs = layers.Dense(n_classes, activation=\"softmax\")(x)\n",
    "    model = keras.Model(inputs, outputs)\n",
    "    model.compile(\n",
    "        optimizer=keras.optimizers.Adam(learning_rate=1e-3),\n",
    "        loss=\"sparse_categorical_crossentropy\",\n",
    "        metrics=[\"accuracy\"]\n",
    "    )\n",
    "    return model\n",
    "\n",
    "model = build_lstm_model(seq_len=T, n_channels=C, n_classes=num_classes)\n",
    "model.summary()\n",
    "\n",
    "# Callbacks\n",
    "early = keras.callbacks.EarlyStopping(\n",
    "    monitor=\"val_loss\", patience=5, restore_best_weights=True\n",
    ")\n",
    "\n",
    "# Entrenamiento\n",
    "EPOCHS = 20\n",
    "BATCH  = 32\n",
    "history = model.fit(\n",
    "    X_train, y_train,\n",
    "    validation_data=(X_val, y_val),\n",
    "    epochs=EPOCHS,\n",
    "    batch_size=BATCH,\n",
    "    verbose=1,\n",
    "    callbacks=[early]\n",
    ")\n",
    "\n"
   ]
  },
  {
   "cell_type": "code",
   "execution_count": 15,
   "id": "80851bb7",
   "metadata": {},
   "outputs": [
    {
     "name": "stdout",
     "output_type": "stream",
     "text": [
      "\n",
      "=== Métricas finales (Test) ===\n",
      "Accuracy:      1.0000\n",
      "Precision (macro): 1.0000 | Recall (macro): 1.0000 | F1 (macro): 1.0000\n",
      "Precision (weighted): 1.0000 | Recall (weighted): 1.0000 | F1 (weighted): 1.0000\n",
      "\n",
      "=== Classification report (por clase) ===\n",
      "              precision    recall  f1-score   support\n",
      "\n",
      "      normal       1.00      1.00      1.00        15\n",
      " bradicardia       1.00      1.00      1.00        15\n",
      " taquicardia       1.00      1.00      1.00        15\n",
      "\n",
      "    accuracy                           1.00        45\n",
      "   macro avg       1.00      1.00      1.00        45\n",
      "weighted avg       1.00      1.00      1.00        45\n",
      "\n"
     ]
    }
   ],
   "source": [
    "\n",
    "# --------------------------------------------------------\n",
    "# 3) Métricas en Test\n",
    "# --------------------------------------------------------\n",
    "probs = model.predict(X_test, verbose=0)\n",
    "y_pred = np.argmax(probs, axis=1)\n",
    "\n",
    "acc = accuracy_score(y_test, y_pred)\n",
    "prec_macro, rec_macro, f1_macro, _ = precision_recall_fscore_support(\n",
    "    y_test, y_pred, average=\"macro\", zero_division=0\n",
    ")\n",
    "prec_w, rec_w, f1_w, _ = precision_recall_fscore_support(\n",
    "    y_test, y_pred, average=\"weighted\", zero_division=0\n",
    ")\n",
    "cm = confusion_matrix(y_test, y_pred)\n",
    "\n",
    "print(\"\\n=== Métricas finales (Test) ===\")\n",
    "print(f\"Accuracy:      {acc:.4f}\")\n",
    "print(f\"Precision (macro): {prec_macro:.4f} | Recall (macro): {rec_macro:.4f} | F1 (macro): {f1_macro:.4f}\")\n",
    "print(f\"Precision (weighted): {prec_w:.4f} | Recall (weighted): {rec_w:.4f} | F1 (weighted): {f1_w:.4f}\")\n",
    "\n",
    "print(\"\\n=== Classification report (por clase) ===\")\n",
    "print(classification_report(y_test, y_pred, target_names=class_names, zero_division=0))\n"
   ]
  },
  {
   "cell_type": "code",
   "execution_count": 16,
   "id": "042bbe78",
   "metadata": {},
   "outputs": [
    {
     "name": "stdout",
     "output_type": "stream",
     "text": [
      "=== Matriz de confusión ===\n",
      "                  pred_normal  pred_bradicardia  pred_taquicardia\n",
      "true_normal                15                 0                 0\n",
      "true_bradicardia            0                15                 0\n",
      "true_taquicardia            0                 0                15\n"
     ]
    }
   ],
   "source": [
    "print(\"=== Matriz de confusión ===\")\n",
    "print(pd.DataFrame(cm, index=[f\"true_{c}\" for c in class_names],\n",
    "                      columns=[f\"pred_{c}\" for c in class_names]))\n"
   ]
  }
 ],
 "metadata": {
  "kernelspec": {
   "display_name": "torch-env",
   "language": "python",
   "name": "python3"
  },
  "language_info": {
   "codemirror_mode": {
    "name": "ipython",
    "version": 3
   },
   "file_extension": ".py",
   "mimetype": "text/x-python",
   "name": "python",
   "nbconvert_exporter": "python",
   "pygments_lexer": "ipython3",
   "version": "3.13.9"
  }
 },
 "nbformat": 4,
 "nbformat_minor": 5
}
